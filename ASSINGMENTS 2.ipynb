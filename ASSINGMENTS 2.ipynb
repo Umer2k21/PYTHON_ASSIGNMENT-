{
 "cells": [
  {
   "cell_type": "code",
   "execution_count": null,
   "id": "11370166",
   "metadata": {},
   "outputs": [],
   "source": [
    "dict = {\n",
    "    'mirpurkhhas' : 69000,\n",
    "    'sanger' : 68000,\n",
    "    'umerkot': 67000,\n",
    "    'gulbrak': 66000,\n",
    "    'tandoadam' : 63000\n",
    "    \n",
    "}\n",
    "val = int(input(\"enter their zip code : \"))\n",
    "for key, value in dict.items():\n",
    "    if value == val:\n",
    "        print(key)"
   ]
  },
  {
   "cell_type": "code",
   "execution_count": null,
   "id": "1545a03b",
   "metadata": {},
   "outputs": [],
   "source": [
    "dicts = {\n",
    "    \"umer\" : [75,85,85,60,90,75],\n",
    "    \"waleed\" : [85,85,65,95,90,75],\n",
    "    \"anas\" : [60,68,67,69,90,75],\n",
    "    \"hamza\" : [76,67,78,87,90,75],\n",
    "    \"hammad\" : [55,85,75,80,69,75]\n",
    "}\n",
    "\n",
    "for key, values in dicts.items():\n",
    "    dicts[key] = sum(values)"
   ]
  },
  {
   "cell_type": "code",
   "execution_count": null,
   "id": "bbc82c46",
   "metadata": {},
   "outputs": [],
   "source": [
    "dicts"
   ]
  },
  {
   "cell_type": "code",
   "execution_count": null,
   "id": "1f73202f",
   "metadata": {},
   "outputs": [],
   "source": [
    "da = dicts[\"umer\"]\n",
    "da"
   ]
  },
  {
   "cell_type": "code",
   "execution_count": null,
   "id": "311b1f44",
   "metadata": {},
   "outputs": [],
   "source": [
    "da/600*100"
   ]
  },
  {
   "cell_type": "code",
   "execution_count": null,
   "id": "0ae7e299",
   "metadata": {},
   "outputs": [],
   "source": [
    "ds = dicts[\"waleed\"]\n",
    "ds\n"
   ]
  },
  {
   "cell_type": "code",
   "execution_count": null,
   "id": "757c794d",
   "metadata": {},
   "outputs": [],
   "source": [
    "ds/600*100"
   ]
  },
  {
   "cell_type": "code",
   "execution_count": null,
   "id": "f6a78b6f",
   "metadata": {},
   "outputs": [],
   "source": [
    "df = dicts[\"hammad\"]\n",
    "df"
   ]
  },
  {
   "cell_type": "code",
   "execution_count": null,
   "id": "e33a2365",
   "metadata": {},
   "outputs": [],
   "source": [
    "df/600*100"
   ]
  },
  {
   "cell_type": "code",
   "execution_count": null,
   "id": "a86b8426",
   "metadata": {},
   "outputs": [],
   "source": [
    "s = dicts['anas']\n",
    "s"
   ]
  },
  {
   "cell_type": "code",
   "execution_count": null,
   "id": "0709e900",
   "metadata": {},
   "outputs": [],
   "source": [
    "s/600*100"
   ]
  },
  {
   "cell_type": "code",
   "execution_count": null,
   "id": "7d6b5360",
   "metadata": {},
   "outputs": [],
   "source": []
  },
  {
   "cell_type": "code",
   "execution_count": null,
   "id": "40305424",
   "metadata": {},
   "outputs": [],
   "source": []
  }
 ],
 "metadata": {
  "kernelspec": {
   "display_name": "Python 3 (ipykernel)",
   "language": "python",
   "name": "python3"
  },
  "language_info": {
   "codemirror_mode": {
    "name": "ipython",
    "version": 3
   },
   "file_extension": ".py",
   "mimetype": "text/x-python",
   "name": "python",
   "nbconvert_exporter": "python",
   "pygments_lexer": "ipython3",
   "version": "3.11.1"
  }
 },
 "nbformat": 4,
 "nbformat_minor": 5
}
